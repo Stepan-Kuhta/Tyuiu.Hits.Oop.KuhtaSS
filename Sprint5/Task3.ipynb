{
 "cells": [
  {
   "cell_type": "markdown",
   "metadata": {},
   "source": [
    "<h1 style=\"color:DodgerBlue\">Индивидальный проект</h1>"
   ]
  },
  {
   "cell_type": "markdown",
   "metadata": {},
   "source": [
    "<h2 style=\"color:DodgerBlue\">Название проекта:</h2>\n",
    "\n",
    "----\n",
    "\n",
    "### Вариант задания \n"
   ]
  },
  {
   "cell_type": "markdown",
   "metadata": {},
   "source": [
    "<h2 style=\"color:DodgerBlue\">Описание проекта:</h2>\n",
    "\n",
    "----\n",
    "\n",
    "[ваш текст]\n",
    "\n",
    "#### Дополнительное задание\n",
    "Добавьте к сущестующим классам (базовыму и производным 3-4 атрибута и метода) исользуйтие в проекте коллекции, делегаты, события.\n"
   ]
  },
  {
   "cell_type": "markdown",
   "metadata": {},
   "source": [
    "<h2 style=\"color:DodgerBlue\">Реализация:</h2>\n",
    "\n",
    "----"
   ]
  },
  {
   "cell_type": "code",
   "execution_count": null,
   "metadata": {
    "dotnet_interactive": {
     "language": "csharp"
    },
    "polyglot_notebook": {
     "kernelName": "csharp"
    }
   },
   "outputs": [
    {
     "name": "stdout",
     "output_type": "stream",
     "text": [
      "Добавлена позиция: Товар 1\n",
      "Добавлена позиция: Товар 2\n",
      "Добавлена позиция: Услуга 1\n",
      "Добавлена позиция: Услуга 2\n",
      "Удалена позиция: Товар 1\n",
      "Счет №INV001 от 20.11.2024\n",
      "Список позиций:\n",
      "Товар: Товар 2, Цена: 500, Кол-во: 2, Дата поставки: 30.11.2024\n",
      "Услуга: Услуга 1, Цена: 150, Кол-во: 1, Дата оказания: 21.11.2024\n",
      "Услуга: Услуга 2, Цена: 200, Кол-во: 1, Дата оказания: 22.11.2024\n",
      "Общая сумма: 1350\n"
     ]
    }
   ],
   "source": [
    "using System;\n",
    "using System.Collections.Generic;\n",
    "\n",
    "// Базовый класс для строки в счете\n",
    "public class LineItem\n",
    "{\n",
    "    public string Description { get; set; }\n",
    "    public int Price { get; set; }\n",
    "    public int Quantity { get; set; }\n",
    "\n",
    "    public LineItem(string description, int price, int quantity)\n",
    "    {\n",
    "        Description = description;\n",
    "        Price = price;\n",
    "        Quantity = quantity;\n",
    "    }\n",
    "\n",
    "    public virtual decimal GetTotal()\n",
    "    {\n",
    "        return Price * Quantity;\n",
    "    }\n",
    "}\n",
    "\n",
    "// Класс для товара\n",
    "public class Good : LineItem\n",
    "{\n",
    "    public DateTime SupplyDate { get; set; }\n",
    "\n",
    "    public Good(string description, int price, int quantity, DateTime supplyDate)\n",
    "        : base(description, price, quantity)\n",
    "    {\n",
    "        SupplyDate = supplyDate;\n",
    "    }\n",
    "\n",
    "    public override string ToString()\n",
    "    {\n",
    "        return $\"Товар: {Description}, Цена: {Price}, Кол-во: {Quantity}, Дата поставки: {SupplyDate.ToShortDateString()}\";\n",
    "    }\n",
    "}\n",
    "\n",
    "// Класс для услуги\n",
    "public class Service : LineItem\n",
    "{\n",
    "    public DateTime ServiceDate { get; set; }\n",
    "\n",
    "    public Service(string description, int price, int quantity, DateTime serviceDate)\n",
    "        : base(description, price, quantity)\n",
    "    {\n",
    "        ServiceDate = serviceDate;\n",
    "    }\n",
    "\n",
    "    public override string ToString()\n",
    "    {\n",
    "        return $\"Услуга: {Description}, Цена: {Price}, Кол-во: {Quantity}, Дата оказания: {ServiceDate.ToShortDateString()}\";\n",
    "    }\n",
    "}\n",
    "\n",
    "// Класс комбинированной фактуры\n",
    "public class CombinedInvoice\n",
    "{\n",
    "    public string InvoiceNumber { get; set; }\n",
    "    public DateTime IssueDate { get; set; }\n",
    "    public decimal TotalAmount { get; private set; }\n",
    "    public List<LineItem> LineItems { get; private set; }\n",
    "\n",
    "    // События\n",
    "    public event Action<string> OnLineItemAdded;\n",
    "    public event Action<string> OnLineItemRemoved;\n",
    "\n",
    "    public CombinedInvoice(string invoiceNumber, DateTime issueDate)\n",
    "    {\n",
    "        InvoiceNumber = invoiceNumber;\n",
    "        IssueDate = issueDate;\n",
    "        LineItems = new List<LineItem>();\n",
    "    }\n",
    "\n",
    "    public void AddLine(LineItem lineItem)\n",
    "    {\n",
    "        LineItems.Add(lineItem);\n",
    "        OnLineItemAdded?.Invoke($\"Добавлена позиция: {lineItem.Description}\");\n",
    "    }\n",
    "\n",
    "    public void RemoveLine(LineItem lineItem)\n",
    "    {\n",
    "        if (LineItems.Remove(lineItem))\n",
    "        {\n",
    "            OnLineItemRemoved?.Invoke($\"Удалена позиция: {lineItem.Description}\");\n",
    "        }\n",
    "        else\n",
    "        {\n",
    "            Console.WriteLine($\"Позиция {lineItem.Description} не найдена.\");\n",
    "        }\n",
    "    }\n",
    "\n",
    "    public void CalculateTotal()\n",
    "    {\n",
    "        TotalAmount = 0;\n",
    "        foreach (var item in LineItems)\n",
    "        {\n",
    "            TotalAmount += item.GetTotal();\n",
    "        }\n",
    "    }\n",
    "\n",
    "    public void DisplayInvoice()\n",
    "    {\n",
    "        Console.WriteLine($\"Счет №{InvoiceNumber} от {IssueDate.ToShortDateString()}\");\n",
    "        Console.WriteLine(\"Список позиций:\");\n",
    "        foreach (var item in LineItems)\n",
    "        {\n",
    "            Console.WriteLine(item);\n",
    "        }\n",
    "        CalculateTotal();\n",
    "        Console.WriteLine($\"Общая сумма: {TotalAmount}\");\n",
    "    }\n",
    "}\n",
    "\n",
    "// Пример использования\n",
    "        CombinedInvoice invoice = new CombinedInvoice(\"INV001\", DateTime.Now);\n",
    "\n",
    "        // Подписка на события\n",
    "        invoice.OnLineItemAdded += (message) => Console.WriteLine(message);\n",
    "        invoice.OnLineItemRemoved += (message) => Console.WriteLine(message);\n",
    "\n",
    "        // Добавляем товары\n",
    "        invoice.AddLine(new Good(\"Товар 1\", 300, 1, DateTime.Now.AddDays(7)));\n",
    "        invoice.AddLine(new Good(\"Товар 2\", 500, 2, DateTime.Now.AddDays(10)));\n",
    "\n",
    "        // Добавляем услуги\n",
    "        invoice.AddLine(new Service(\"Услуга 1\", 150, 1, DateTime.Now.AddDays(1)));\n",
    "        invoice.AddLine(new Service(\"Услуга 2\", 200, 1, DateTime.Now.AddDays(2)));\n",
    "\n",
    "        // Удаляем товар\n",
    "        var itemToRemove = invoice.LineItems[0];\n",
    "        invoice.RemoveLine(itemToRemove);\n",
    "\n",
    "        // Отображаем итоговый счет\n",
    "        invoice.DisplayInvoice();\n",
    "\n"
   ]
  }
 ],
 "metadata": {
  "kernelspec": {
   "display_name": ".NET (C#)",
   "language": "C#",
   "name": ".net-csharp"
  },
  "polyglot_notebook": {
   "kernelInfo": {
    "defaultKernelName": "csharp",
    "items": [
     {
      "aliases": [],
      "languageName": "csharp",
      "name": "csharp"
     }
    ]
   }
  }
 },
 "nbformat": 4,
 "nbformat_minor": 2
}
